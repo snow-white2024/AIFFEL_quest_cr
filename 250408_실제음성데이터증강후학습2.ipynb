{
  "nbformat": 4,
  "nbformat_minor": 0,
  "metadata": {
    "colab": {
      "provenance": [],
      "authorship_tag": "ABX9TyPjik1Px4N7vVJsLOpwTAd3",
      "include_colab_link": true
    },
    "kernelspec": {
      "name": "python3",
      "display_name": "Python 3"
    },
    "language_info": {
      "name": "python"
    }
  },
  "cells": [
    {
      "cell_type": "markdown",
      "metadata": {
        "id": "view-in-github",
        "colab_type": "text"
      },
      "source": [
        "<a href=\"https://colab.research.google.com/github/snow-white2024/AIFFEL_quest_cr/blob/master/250408_%EC%8B%A4%EC%A0%9C%EC%9D%8C%EC%84%B1%EB%8D%B0%EC%9D%B4%ED%84%B0%EC%A6%9D%EA%B0%95%ED%9B%84%ED%95%99%EC%8A%B52.ipynb\" target=\"_parent\"><img src=\"https://colab.research.google.com/assets/colab-badge.svg\" alt=\"Open In Colab\"/></a>"
      ]
    },
    {
      "cell_type": "markdown",
      "source": [
        "# 실험 개요\n",
        "사용된 데이터\n",
        "- 안정시 4\n",
        "- 운동중 4\n",
        "\n",
        "데이터 증강 기법 적용\n",
        "- 피치 변형\n",
        "- 시간 신속도 조정\n",
        "\n",
        "40개로 데이터 증강\n",
        "\n",
        "시간적 연속성,순차적 특성 학습이 가능한 LSTM모델 채택 및 훈련과 테스트 셋으로 분류 및 학습 진행"
      ],
      "metadata": {
        "id": "7s1vNPwCeeJH"
      }
    },
    {
      "cell_type": "code",
      "source": [
        "from google.colab import drive\n",
        "drive.mount('/content/drive')"
      ],
      "metadata": {
        "colab": {
          "base_uri": "https://localhost:8080/"
        },
        "id": "AWurKpD5RQlD",
        "outputId": "b40a408e-933e-4023-fd91-db801db166eb"
      },
      "execution_count": 12,
      "outputs": [
        {
          "output_type": "stream",
          "name": "stdout",
          "text": [
            "Drive already mounted at /content/drive; to attempt to forcibly remount, call drive.mount(\"/content/drive\", force_remount=True).\n"
          ]
        }
      ]
    },
    {
      "cell_type": "code",
      "source": [
        "import librosa\n",
        "import numpy as np\n",
        "import os\n",
        "from sklearn.model_selection import train_test_split\n",
        "from sklearn.metrics import precision_score, recall_score, f1_score, confusion_matrix, accuracy_score\n",
        "import matplotlib.pyplot as plt\n",
        "import seaborn as sns\n",
        "from tensorflow.keras.models import Sequential\n",
        "from tensorflow.keras.layers import Dense, LSTM, Dropout\n",
        "from tensorflow.keras.utils import to_categorical\n",
        "\n",
        "# 피치 변형 함수\n",
        "def pitch_shift(audio, sample_rate, n_steps):\n",
        "    # 올바른 순서로 인자 전달 (y=audio, sr=sample_rate, n_steps=n_steps)\n",
        "    return librosa.effects.pitch_shift(y=audio, sr=sample_rate, n_steps=n_steps)\n",
        "\n",
        "# 시간 신속도 조정 함수\n",
        "def time_stretch(audio, rate):\n",
        "    return librosa.effects.time_stretch(audio, rate=rate)\n",
        "\n",
        "\n",
        "# 데이터 증강 함수\n",
        "def augment_data(audio, sample_rate):\n",
        "    augmented_data = []\n",
        "    augmented_data.append(audio)  # 원본 데이터 추가\n",
        "    augmented_data.append(pitch_shift(audio, sample_rate, n_steps=2))  # +2피치\n",
        "    augmented_data.append(pitch_shift(audio, sample_rate, n_steps=-2))  # -2피치\n",
        "    augmented_data.append(time_stretch(audio, rate=1.2))  # 느리게\n",
        "    augmented_data.append(time_stretch(audio, rate=0.8))  # 빠르게\n",
        "    return augmented_data\n",
        "\n",
        "# 오디오 파일에서 특징 추출 함수\n",
        "def extract_features_from_audio(audio, sample_rate):\n",
        "    mfcc = librosa.feature.mfcc(y=audio, sr=sample_rate, n_mfcc=13)\n",
        "    mfcc_mean = np.mean(mfcc, axis=1)\n",
        "    return mfcc_mean\n",
        "\n",
        "\n",
        "# 증강된 데이터 로드 함수\n",
        "def load_and_augment(file_path):\n",
        "    audio, sample_rate = librosa.load(file_path, sr=None)\n",
        "    augmented_audios = augment_data(audio, sample_rate)\n",
        "    return augmented_audios\n",
        "\n",
        "# 데이터셋 로드 및 증강 함수\n",
        "def load_data_with_augmentation(dataset_path):\n",
        "    features = []\n",
        "    labels = []\n",
        "\n",
        "    stable_path = os.path.join(dataset_path, 'stable')\n",
        "    for filename in os.listdir(stable_path):\n",
        "        if filename.endswith('.wav'):\n",
        "            file_path = os.path.join(stable_path, filename)\n",
        "            audio, sr = librosa.load(file_path, sr=None)  # 원본 파일 로드\n",
        "            augmented_data = augment_data(audio, sr)\n",
        "            for data in augmented_data:\n",
        "                feature = extract_features_from_audio(data, sr)\n",
        "                features.append(feature)\n",
        "                labels.append(0)  # 안정된 상태 레이블은 0\n",
        "\n",
        "    running_path = os.path.join(dataset_path, 'running')\n",
        "    for filename in os.listdir(running_path):\n",
        "        if filename.endswith('.wav'):\n",
        "            file_path = os.path.join(running_path, filename)\n",
        "            audio, sr = librosa.load(file_path, sr=None)\n",
        "            augmented_data = augment_data(audio, sr)\n",
        "            for data in augmented_data:\n",
        "                feature = extract_features_from_audio(data, sr)\n",
        "                features.append(feature)\n",
        "                labels.append(1)  # 중고강도 상태 레이블은 1\n",
        "\n",
        "    return np.array(features), np.array(labels)\n",
        "\n",
        "\n",
        "# 데이터 로딩 및 증강 적용\n",
        "dataset_path = '/content/drive/MyDrive/dataset'\n",
        "X, y = load_data_with_augmentation(dataset_path)\n",
        "\n",
        "# 데이터셋 크기 출력\n",
        "print(f'Original dataset size: 4 samples per class')\n",
        "print(f'Augmented dataset size: {X.shape[0]} samples')\n",
        "\n",
        "# 레이블을 one-hot 인코딩\n",
        "y = to_categorical(y, num_classes=2)\n",
        "\n",
        "# 데이터셋을 학습용과 테스트용으로 나누기\n",
        "X_train, X_test, y_train, y_test = train_test_split(X, y, test_size=0.2, random_state=42)\n",
        "\n",
        "# LSTM 모델 구축\n",
        "model = Sequential()\n",
        "model.add(LSTM(128, input_shape=(X_train.shape[1], 1), return_sequences=True))\n",
        "model.add(Dropout(0.5))\n",
        "model.add(LSTM(64, return_sequences=False))\n",
        "model.add(Dropout(0.5))\n",
        "model.add(Dense(2, activation='softmax'))  # 두 가지 클래스를 예측\n",
        "\n",
        "# 모델 컴파일\n",
        "model.compile(loss='categorical_crossentropy', optimizer='adam', metrics=['accuracy'])\n",
        "\n",
        "# 데이터 차원 맞추기 (LSTM에 맞게 입력 형태 변환)\n",
        "X_train = np.expand_dims(X_train, axis=-1)\n",
        "X_test = np.expand_dims(X_test, axis=-1)\n",
        "\n",
        "# 모델 학습\n",
        "history = model.fit(X_train, y_train, epochs=20, batch_size=32, validation_data=(X_test, y_test))\n",
        "\n",
        "# 모델 평가\n",
        "y_pred = model.predict(X_test)\n",
        "\n",
        "# 모델 평가: 정확도, 정밀도, 재현율, F1-score\n",
        "accuracy = accuracy_score(np.argmax(y_test, axis=1), np.argmax(y_pred, axis=1))\n",
        "precision = precision_score(np.argmax(y_test, axis=1), np.argmax(y_pred, axis=1))\n",
        "recall = recall_score(np.argmax(y_test, axis=1), np.argmax(y_pred, axis=1))\n",
        "f1 = f1_score(np.argmax(y_test, axis=1), np.argmax(y_pred, axis=1))\n",
        "\n",
        "print(f\"Accuracy: {accuracy}\")\n",
        "print(f\"Precision: {precision}\")\n",
        "print(f\"Recall: {recall}\")\n",
        "print(f\"F1-Score: {f1}\")\n",
        "\n",
        "# 혼동 행렬 출력\n",
        "cm = confusion_matrix(np.argmax(y_test, axis=1), np.argmax(y_pred, axis=1))\n",
        "\n",
        "plt.figure(figsize=(6, 6))\n",
        "sns.heatmap(cm, annot=True, fmt=\"d\", cmap=\"Blues\", xticklabels=[\"Stable\", \"Running\"], yticklabels=[\"Stable\", \"Running\"])\n",
        "plt.ylabel('True Label')\n",
        "plt.xlabel('Predicted Label')\n",
        "plt.title('Confusion Matrix')\n",
        "plt.show()\n"
      ],
      "metadata": {
        "colab": {
          "base_uri": "https://localhost:8080/",
          "height": 1000
        },
        "id": "yKIA_l0EXf5j",
        "outputId": "a003c92e-f285-4a16-c5f3-76e9b391e9d1"
      },
      "execution_count": 32,
      "outputs": [
        {
          "output_type": "stream",
          "name": "stdout",
          "text": [
            "Original dataset size: 4 samples per class\n",
            "Augmented dataset size: 40 samples\n",
            "Epoch 1/20\n"
          ]
        },
        {
          "output_type": "stream",
          "name": "stderr",
          "text": [
            "/usr/local/lib/python3.11/dist-packages/keras/src/layers/rnn/rnn.py:200: UserWarning: Do not pass an `input_shape`/`input_dim` argument to a layer. When using Sequential models, prefer using an `Input(shape)` object as the first layer in the model instead.\n",
            "  super().__init__(**kwargs)\n"
          ]
        },
        {
          "output_type": "stream",
          "name": "stdout",
          "text": [
            "\u001b[1m1/1\u001b[0m \u001b[32m━━━━━━━━━━━━━━━━━━━━\u001b[0m\u001b[37m\u001b[0m \u001b[1m4s\u001b[0m 4s/step - accuracy: 0.6562 - loss: 0.6476 - val_accuracy: 0.3750 - val_loss: 0.6801\n",
            "Epoch 2/20\n",
            "\u001b[1m1/1\u001b[0m \u001b[32m━━━━━━━━━━━━━━━━━━━━\u001b[0m\u001b[37m\u001b[0m \u001b[1m1s\u001b[0m 735ms/step - accuracy: 0.6250 - loss: 0.6652 - val_accuracy: 0.5000 - val_loss: 0.6620\n",
            "Epoch 3/20\n",
            "\u001b[1m1/1\u001b[0m \u001b[32m━━━━━━━━━━━━━━━━━━━━\u001b[0m\u001b[37m\u001b[0m \u001b[1m0s\u001b[0m 105ms/step - accuracy: 0.7500 - loss: 0.6123 - val_accuracy: 0.6250 - val_loss: 0.6362\n",
            "Epoch 4/20\n",
            "\u001b[1m1/1\u001b[0m \u001b[32m━━━━━━━━━━━━━━━━━━━━\u001b[0m\u001b[37m\u001b[0m \u001b[1m0s\u001b[0m 106ms/step - accuracy: 0.7188 - loss: 0.6154 - val_accuracy: 0.8750 - val_loss: 0.6011\n",
            "Epoch 5/20\n",
            "\u001b[1m1/1\u001b[0m \u001b[32m━━━━━━━━━━━━━━━━━━━━\u001b[0m\u001b[37m\u001b[0m \u001b[1m0s\u001b[0m 142ms/step - accuracy: 0.8750 - loss: 0.5481 - val_accuracy: 1.0000 - val_loss: 0.5618\n",
            "Epoch 6/20\n",
            "\u001b[1m1/1\u001b[0m \u001b[32m━━━━━━━━━━━━━━━━━━━━\u001b[0m\u001b[37m\u001b[0m \u001b[1m0s\u001b[0m 113ms/step - accuracy: 0.8750 - loss: 0.5066 - val_accuracy: 1.0000 - val_loss: 0.5164\n",
            "Epoch 7/20\n",
            "\u001b[1m1/1\u001b[0m \u001b[32m━━━━━━━━━━━━━━━━━━━━\u001b[0m\u001b[37m\u001b[0m \u001b[1m0s\u001b[0m 113ms/step - accuracy: 0.8750 - loss: 0.4871 - val_accuracy: 1.0000 - val_loss: 0.4614\n",
            "Epoch 8/20\n",
            "\u001b[1m1/1\u001b[0m \u001b[32m━━━━━━━━━━━━━━━━━━━━\u001b[0m\u001b[37m\u001b[0m \u001b[1m0s\u001b[0m 105ms/step - accuracy: 0.8750 - loss: 0.4528 - val_accuracy: 1.0000 - val_loss: 0.4016\n",
            "Epoch 9/20\n",
            "\u001b[1m1/1\u001b[0m \u001b[32m━━━━━━━━━━━━━━━━━━━━\u001b[0m\u001b[37m\u001b[0m \u001b[1m0s\u001b[0m 107ms/step - accuracy: 0.9688 - loss: 0.4255 - val_accuracy: 1.0000 - val_loss: 0.3379\n",
            "Epoch 10/20\n",
            "\u001b[1m1/1\u001b[0m \u001b[32m━━━━━━━━━━━━━━━━━━━━\u001b[0m\u001b[37m\u001b[0m \u001b[1m0s\u001b[0m 138ms/step - accuracy: 0.9688 - loss: 0.3387 - val_accuracy: 1.0000 - val_loss: 0.2754\n",
            "Epoch 11/20\n",
            "\u001b[1m1/1\u001b[0m \u001b[32m━━━━━━━━━━━━━━━━━━━━\u001b[0m\u001b[37m\u001b[0m \u001b[1m0s\u001b[0m 139ms/step - accuracy: 1.0000 - loss: 0.2876 - val_accuracy: 1.0000 - val_loss: 0.2134\n",
            "Epoch 12/20\n",
            "\u001b[1m1/1\u001b[0m \u001b[32m━━━━━━━━━━━━━━━━━━━━\u001b[0m\u001b[37m\u001b[0m \u001b[1m0s\u001b[0m 137ms/step - accuracy: 0.9688 - loss: 0.2589 - val_accuracy: 1.0000 - val_loss: 0.1553\n",
            "Epoch 13/20\n",
            "\u001b[1m1/1\u001b[0m \u001b[32m━━━━━━━━━━━━━━━━━━━━\u001b[0m\u001b[37m\u001b[0m \u001b[1m0s\u001b[0m 144ms/step - accuracy: 0.9375 - loss: 0.2179 - val_accuracy: 1.0000 - val_loss: 0.1064\n",
            "Epoch 14/20\n",
            "\u001b[1m1/1\u001b[0m \u001b[32m━━━━━━━━━━━━━━━━━━━━\u001b[0m\u001b[37m\u001b[0m \u001b[1m0s\u001b[0m 112ms/step - accuracy: 1.0000 - loss: 0.1381 - val_accuracy: 1.0000 - val_loss: 0.0682\n",
            "Epoch 15/20\n",
            "\u001b[1m1/1\u001b[0m \u001b[32m━━━━━━━━━━━━━━━━━━━━\u001b[0m\u001b[37m\u001b[0m \u001b[1m0s\u001b[0m 140ms/step - accuracy: 1.0000 - loss: 0.1076 - val_accuracy: 1.0000 - val_loss: 0.0428\n",
            "Epoch 16/20\n",
            "\u001b[1m1/1\u001b[0m \u001b[32m━━━━━━━━━━━━━━━━━━━━\u001b[0m\u001b[37m\u001b[0m \u001b[1m0s\u001b[0m 139ms/step - accuracy: 1.0000 - loss: 0.0685 - val_accuracy: 1.0000 - val_loss: 0.0298\n",
            "Epoch 17/20\n",
            "\u001b[1m1/1\u001b[0m \u001b[32m━━━━━━━━━━━━━━━━━━━━\u001b[0m\u001b[37m\u001b[0m \u001b[1m0s\u001b[0m 122ms/step - accuracy: 0.9688 - loss: 0.0807 - val_accuracy: 1.0000 - val_loss: 0.0237\n",
            "Epoch 18/20\n",
            "\u001b[1m1/1\u001b[0m \u001b[32m━━━━━━━━━━━━━━━━━━━━\u001b[0m\u001b[37m\u001b[0m \u001b[1m0s\u001b[0m 128ms/step - accuracy: 1.0000 - loss: 0.0461 - val_accuracy: 1.0000 - val_loss: 0.0129\n",
            "Epoch 19/20\n",
            "\u001b[1m1/1\u001b[0m \u001b[32m━━━━━━━━━━━━━━━━━━━━\u001b[0m\u001b[37m\u001b[0m \u001b[1m0s\u001b[0m 146ms/step - accuracy: 1.0000 - loss: 0.0304 - val_accuracy: 1.0000 - val_loss: 0.0069\n",
            "Epoch 20/20\n",
            "\u001b[1m1/1\u001b[0m \u001b[32m━━━━━━━━━━━━━━━━━━━━\u001b[0m\u001b[37m\u001b[0m \u001b[1m0s\u001b[0m 108ms/step - accuracy: 1.0000 - loss: 0.0191 - val_accuracy: 1.0000 - val_loss: 0.0044\n",
            "\u001b[1m1/1\u001b[0m \u001b[32m━━━━━━━━━━━━━━━━━━━━\u001b[0m\u001b[37m\u001b[0m \u001b[1m0s\u001b[0m 335ms/step\n",
            "Accuracy: 1.0\n",
            "Precision: 1.0\n",
            "Recall: 1.0\n",
            "F1-Score: 1.0\n"
          ]
        },
        {
          "output_type": "display_data",
          "data": {
            "text/plain": [
              "<Figure size 600x600 with 2 Axes>"
            ],
            "image/png": "[encoded data removed]"
          },
          "metadata": {}
        }
      ]
    },
    {
      "cell_type": "markdown",
      "source": [
        "# 1. 결과 분석\n",
        "결과를 보면, 원본 데이터가 매우 적음에도 불구하고 증강을 통해 40개의 샘플로 확장하고, 모델 학습 후 검증 정확도와 평가 지표(Accuracy, Precision, Recall, F1-score)가 모두 1.0으로 나타납니다.\n",
        "\n",
        "\n",
        "\n",
        "## a. 데이터셋 규모와 증강\n",
        "**원본 데이터:** 클래스당 4개의 샘플\n",
        "\n",
        "→ 극히 제한된 데이터로 인해 모델이 본질적인 패턴을 학습하기엔 데이터 부족 문제가 있음.\n",
        "\n",
        "**증강 데이터:** 증강을 통해 전체 40개의 샘플로 확장\n",
        "\n",
        "→ 증강된 데이터는 다양성을 어느 정도 제공할 수 있지만, 증강 기법이 원본의 한계를 극복할 만큼 충분한 다양성을 제공하는지는 재검토가 필요합니다.\n",
        "\n",
        "## b. 학습 및 검증 결과\n",
        "**초기 에포크:** 훈련 정확도는 65~75% 정도, 검증 정확도는 낮은 수치를 보이다가\n",
        "\n",
        "**중후반 에포크:** 빠르게 100%에 도달하며, 손실(loss)이 거의 0에 가까워짐\n",
        "\n",
        "**최종 결과:** 모든 지표가 1.0으로 나타남\n",
        "\n",
        "이러한 완벽한 결과는 두 가지 가능성을 시사합니다:\n",
        "\n",
        "**1. 과적합(Overfitting)**\n",
        "\n",
        "증강된 데이터가 원본 데이터의 변형에 불과하므로, 모델이 사실상 동일한 패턴만 반복해서 학습할 수 있습니다.\n",
        "\n",
        "작은 데이터셋에서 지나치게 높은 정확도가 나오면, 실제 다양한 상황에서는 일반화가 어려울 수 있습니다.\n",
        "\n",
        "**2. 검증 데이터의 문제**\n",
        "\n",
        "학습셋과 검증셋이 충분히 분리되지 않았거나, 증강 과정에서 데이터 누수가 발생할 가능성 등으로 인해 검증셋 자체가 모델이 학습한 패턴과 유사해진 경우입니다.\n",
        "\n",
        "\n",
        "\n",
        "# 2. 결론\n",
        "현재 결과는 매우 이상적이며 완벽한 수치를 보이지만, 데이터의 다양성과 양적인 한계로 인해 실제 환경에서의 일반화 성능은 불확실할 수 있습니다. 앞으로는\n",
        "\n",
        "**더 많은 실제 데이터를 수집**하고,\n",
        "\n",
        "**다양한 증강 기법과 모델 정규화** 및\n",
        "\n",
        "**교차 검증**을 통해 모델의 신뢰성을 높이는 방향으로 연구를 진행하는 것이 좋겠습니다.\n",
        "\n"
      ],
      "metadata": {
        "id": "eay24TDKdPNk"
      }
    },
    {
      "cell_type": "markdown",
      "source": [
        "### 향후 연구 방향에 대한 조언\n",
        "\n",
        "a. 데이터 측면 개선\n",
        "원본 데이터 확보:\n",
        "증강 기술은 어느 정도 도움이 되지만, 궁극적으로는 다양한 실제 상황에서의 원본 음성 데이터를 더 많이 확보하는 것이 필요합니다.\n",
        "\n",
        "운동 상태와 평상시의 음성 데이터를 다양하게 수집하는 것이 중요합니다.\n",
        "\n",
        "증강 기법 다양화:\n",
        "현재는 피치 변형과 시간 신축(시간 왜곡)만 사용하고 있습니다.\n",
        "\n",
        "배경 소음 추가, 리버브, 랜덤 노이즈 삽입 등 다양한 환경 변화를 모사할 수 있는 증강 기법을 도입해 보세요.\n",
        "\n",
        "GAN(Generative Adversarial Networks) 기반 증강 방법 등 최근 기술을 참고할 수 있습니다.\n",
        "\n",
        "b. 모델 측면 개선\n",
        "모델 복잡도와 정규화:\n",
        "– 데이터가 적은 상황에서는 모델의 복잡도를 줄이거나, 정규화(L2 정규화, 드롭아웃 등)를 강화하여 과적합을 방지하는 것이 필요합니다.\n",
        "\n",
        "전이 학습(Transfer Learning):\n",
        "– 이미 음성 분야에서 사전 학습된 모델(예: 오디오 CNN, transformer 기반 모델 등)을 fine-tuning 하는 방식으로 전이 학습을 고려해 보세요.\n",
        "\n",
        "다양한 특성 추출 기법:\n",
        "– MFCC 외에도 Mel Spectrogram, Chroma features 등 다양한 음성 특징을 추출해보고, 이들을 결합한 multi-modal 접근도 검토해 볼 수 있습니다.\n",
        "\n",
        "c. 평가 및 검증 개선\n",
        "K-Fold Cross Validation:\n",
        "– 데이터셋이 작을 때는 단일 학습/검증 분할보다는 K-Fold 교차 검증을 통해 모델의 일반화 능력을 평가할 수 있습니다.\n",
        "\n",
        "외부 테스트셋 구축:\n",
        "– 모델이 실제 환경에서 어떻게 작동하는지 확인하기 위해, 별도의 테스트셋(실제 사용 환경에서 수집된 데이터)을 마련하여 평가하는 것이 좋습니다.\n",
        "\n",
        "d. 추가 기능 및 연구 확장\n",
        "다양한 센서 데이터 결합:\n",
        "– 음성 데이터 외에도 심박수, 심전도, GPS, 음성 녹음 이외의 다양한 센서 데이터를 통합하여 운동 상태를 종합적으로 평가하는 멀티모달 모델 구축.\n",
        "\n",
        "실시간 평가 및 사용자 피드백 적용:\n",
        "– 앱 내에서 실시간으로 모델의 예측 결과를 사용자에게 피드백하고, 이를 통해 모델을 지속적으로 업데이트할 수 있는 시스템 구축.\n",
        "\n"
      ],
      "metadata": {
        "id": "Y7G1OPJAdqcQ"
      }
    }
  ]
}